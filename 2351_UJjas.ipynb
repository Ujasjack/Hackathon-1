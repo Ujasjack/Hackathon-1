{
  "nbformat": 4,
  "nbformat_minor": 0,
  "metadata": {
    "colab": {
      "provenance": []
    },
    "kernelspec": {
      "name": "python3",
      "display_name": "Python 3"
    },
    "language_info": {
      "name": "python"
    }
  },
  "cells": [
    {
      "cell_type": "code",
      "execution_count": 51,
      "metadata": {
        "id": "LLI_9u3rcbaC"
      },
      "outputs": [],
      "source": [
        "import pandas as pd\n",
        "import numpy as np\n",
        "import seaborn as sns\n",
        "import matplotlib.pyplot as plt\n",
        "from sklearn.preprocessing import OneHotEncoder, LabelEncoder\n",
        "from sklearn.model_selection import train_test_split , KFold\n",
        "from sklearn.linear_model import LinearRegression\n",
        "from sklearn.metrics import mean_squared_error\n",
        "from sklearn.svm import SVR\n",
        "from sklearn.tree import DecisionTreeRegressor\n",
        "from sklearn.ensemble import RandomForestRegressor\n",
        "from sklearn.linear_model import Ridge\n",
        "from sklearn.base import clone"
      ]
    },
    {
      "cell_type": "code",
      "source": [
        "df=pd.read_csv('Train.csv')"
      ],
      "metadata": {
        "id": "XiCobrzBdFCx"
      },
      "execution_count": 52,
      "outputs": []
    },
    {
      "cell_type": "code",
      "source": [
        "df.isnull().sum()\n",
        "df.describe()\n"
      ],
      "metadata": {
        "colab": {
          "base_uri": "https://localhost:8080/",
          "height": 300
        },
        "id": "uAHg3NWndNVp",
        "outputId": "3f8ab79d-8ec5-42d7-e7bc-52858f1fa033"
      },
      "execution_count": 53,
      "outputs": [
        {
          "output_type": "execute_result",
          "data": {
            "text/plain": [
              "                 B            C            D            E            F  \\\n",
              "count  3132.000000  3132.000000  3132.000000  3132.000000  3132.000000   \n",
              "mean      0.525750     0.409254     0.140070     0.834224     0.362219   \n",
              "std       0.119131     0.098557     0.042661     0.491449     0.223000   \n",
              "min       0.075000     0.055000     0.000000     0.002000     0.001000   \n",
              "25%       0.450000     0.350000     0.115000     0.444000     0.187000   \n",
              "50%       0.545000     0.425000     0.145000     0.804500     0.339500   \n",
              "75%       0.615000     0.480000     0.165000     1.156750     0.506500   \n",
              "max       0.815000     0.650000     1.130000     2.825500     1.488000   \n",
              "\n",
              "                 G            H       Target  \n",
              "count  3132.000000  3132.000000  3132.000000  \n",
              "mean      0.181684     0.240351     9.964879  \n",
              "std       0.109317     0.139567     3.229146  \n",
              "min       0.000500     0.001500     1.000000  \n",
              "25%       0.093500     0.130000     8.000000  \n",
              "50%       0.171750     0.235000    10.000000  \n",
              "75%       0.255000     0.330000    11.000000  \n",
              "max       0.760000     1.005000    29.000000  "
            ],
            "text/html": [
              "\n",
              "  <div id=\"df-3df914b0-43b0-4fd1-af47-b8775adbf7b7\">\n",
              "    <div class=\"colab-df-container\">\n",
              "      <div>\n",
              "<style scoped>\n",
              "    .dataframe tbody tr th:only-of-type {\n",
              "        vertical-align: middle;\n",
              "    }\n",
              "\n",
              "    .dataframe tbody tr th {\n",
              "        vertical-align: top;\n",
              "    }\n",
              "\n",
              "    .dataframe thead th {\n",
              "        text-align: right;\n",
              "    }\n",
              "</style>\n",
              "<table border=\"1\" class=\"dataframe\">\n",
              "  <thead>\n",
              "    <tr style=\"text-align: right;\">\n",
              "      <th></th>\n",
              "      <th>B</th>\n",
              "      <th>C</th>\n",
              "      <th>D</th>\n",
              "      <th>E</th>\n",
              "      <th>F</th>\n",
              "      <th>G</th>\n",
              "      <th>H</th>\n",
              "      <th>Target</th>\n",
              "    </tr>\n",
              "  </thead>\n",
              "  <tbody>\n",
              "    <tr>\n",
              "      <th>count</th>\n",
              "      <td>3132.000000</td>\n",
              "      <td>3132.000000</td>\n",
              "      <td>3132.000000</td>\n",
              "      <td>3132.000000</td>\n",
              "      <td>3132.000000</td>\n",
              "      <td>3132.000000</td>\n",
              "      <td>3132.000000</td>\n",
              "      <td>3132.000000</td>\n",
              "    </tr>\n",
              "    <tr>\n",
              "      <th>mean</th>\n",
              "      <td>0.525750</td>\n",
              "      <td>0.409254</td>\n",
              "      <td>0.140070</td>\n",
              "      <td>0.834224</td>\n",
              "      <td>0.362219</td>\n",
              "      <td>0.181684</td>\n",
              "      <td>0.240351</td>\n",
              "      <td>9.964879</td>\n",
              "    </tr>\n",
              "    <tr>\n",
              "      <th>std</th>\n",
              "      <td>0.119131</td>\n",
              "      <td>0.098557</td>\n",
              "      <td>0.042661</td>\n",
              "      <td>0.491449</td>\n",
              "      <td>0.223000</td>\n",
              "      <td>0.109317</td>\n",
              "      <td>0.139567</td>\n",
              "      <td>3.229146</td>\n",
              "    </tr>\n",
              "    <tr>\n",
              "      <th>min</th>\n",
              "      <td>0.075000</td>\n",
              "      <td>0.055000</td>\n",
              "      <td>0.000000</td>\n",
              "      <td>0.002000</td>\n",
              "      <td>0.001000</td>\n",
              "      <td>0.000500</td>\n",
              "      <td>0.001500</td>\n",
              "      <td>1.000000</td>\n",
              "    </tr>\n",
              "    <tr>\n",
              "      <th>25%</th>\n",
              "      <td>0.450000</td>\n",
              "      <td>0.350000</td>\n",
              "      <td>0.115000</td>\n",
              "      <td>0.444000</td>\n",
              "      <td>0.187000</td>\n",
              "      <td>0.093500</td>\n",
              "      <td>0.130000</td>\n",
              "      <td>8.000000</td>\n",
              "    </tr>\n",
              "    <tr>\n",
              "      <th>50%</th>\n",
              "      <td>0.545000</td>\n",
              "      <td>0.425000</td>\n",
              "      <td>0.145000</td>\n",
              "      <td>0.804500</td>\n",
              "      <td>0.339500</td>\n",
              "      <td>0.171750</td>\n",
              "      <td>0.235000</td>\n",
              "      <td>10.000000</td>\n",
              "    </tr>\n",
              "    <tr>\n",
              "      <th>75%</th>\n",
              "      <td>0.615000</td>\n",
              "      <td>0.480000</td>\n",
              "      <td>0.165000</td>\n",
              "      <td>1.156750</td>\n",
              "      <td>0.506500</td>\n",
              "      <td>0.255000</td>\n",
              "      <td>0.330000</td>\n",
              "      <td>11.000000</td>\n",
              "    </tr>\n",
              "    <tr>\n",
              "      <th>max</th>\n",
              "      <td>0.815000</td>\n",
              "      <td>0.650000</td>\n",
              "      <td>1.130000</td>\n",
              "      <td>2.825500</td>\n",
              "      <td>1.488000</td>\n",
              "      <td>0.760000</td>\n",
              "      <td>1.005000</td>\n",
              "      <td>29.000000</td>\n",
              "    </tr>\n",
              "  </tbody>\n",
              "</table>\n",
              "</div>\n",
              "      <button class=\"colab-df-convert\" onclick=\"convertToInteractive('df-3df914b0-43b0-4fd1-af47-b8775adbf7b7')\"\n",
              "              title=\"Convert this dataframe to an interactive table.\"\n",
              "              style=\"display:none;\">\n",
              "        \n",
              "  <svg xmlns=\"http://www.w3.org/2000/svg\" height=\"24px\"viewBox=\"0 0 24 24\"\n",
              "       width=\"24px\">\n",
              "    <path d=\"M0 0h24v24H0V0z\" fill=\"none\"/>\n",
              "    <path d=\"M18.56 5.44l.94 2.06.94-2.06 2.06-.94-2.06-.94-.94-2.06-.94 2.06-2.06.94zm-11 1L8.5 8.5l.94-2.06 2.06-.94-2.06-.94L8.5 2.5l-.94 2.06-2.06.94zm10 10l.94 2.06.94-2.06 2.06-.94-2.06-.94-.94-2.06-.94 2.06-2.06.94z\"/><path d=\"M17.41 7.96l-1.37-1.37c-.4-.4-.92-.59-1.43-.59-.52 0-1.04.2-1.43.59L10.3 9.45l-7.72 7.72c-.78.78-.78 2.05 0 2.83L4 21.41c.39.39.9.59 1.41.59.51 0 1.02-.2 1.41-.59l7.78-7.78 2.81-2.81c.8-.78.8-2.07 0-2.86zM5.41 20L4 18.59l7.72-7.72 1.47 1.35L5.41 20z\"/>\n",
              "  </svg>\n",
              "      </button>\n",
              "      \n",
              "  <style>\n",
              "    .colab-df-container {\n",
              "      display:flex;\n",
              "      flex-wrap:wrap;\n",
              "      gap: 12px;\n",
              "    }\n",
              "\n",
              "    .colab-df-convert {\n",
              "      background-color: #E8F0FE;\n",
              "      border: none;\n",
              "      border-radius: 50%;\n",
              "      cursor: pointer;\n",
              "      display: none;\n",
              "      fill: #1967D2;\n",
              "      height: 32px;\n",
              "      padding: 0 0 0 0;\n",
              "      width: 32px;\n",
              "    }\n",
              "\n",
              "    .colab-df-convert:hover {\n",
              "      background-color: #E2EBFA;\n",
              "      box-shadow: 0px 1px 2px rgba(60, 64, 67, 0.3), 0px 1px 3px 1px rgba(60, 64, 67, 0.15);\n",
              "      fill: #174EA6;\n",
              "    }\n",
              "\n",
              "    [theme=dark] .colab-df-convert {\n",
              "      background-color: #3B4455;\n",
              "      fill: #D2E3FC;\n",
              "    }\n",
              "\n",
              "    [theme=dark] .colab-df-convert:hover {\n",
              "      background-color: #434B5C;\n",
              "      box-shadow: 0px 1px 3px 1px rgba(0, 0, 0, 0.15);\n",
              "      filter: drop-shadow(0px 1px 2px rgba(0, 0, 0, 0.3));\n",
              "      fill: #FFFFFF;\n",
              "    }\n",
              "  </style>\n",
              "\n",
              "      <script>\n",
              "        const buttonEl =\n",
              "          document.querySelector('#df-3df914b0-43b0-4fd1-af47-b8775adbf7b7 button.colab-df-convert');\n",
              "        buttonEl.style.display =\n",
              "          google.colab.kernel.accessAllowed ? 'block' : 'none';\n",
              "\n",
              "        async function convertToInteractive(key) {\n",
              "          const element = document.querySelector('#df-3df914b0-43b0-4fd1-af47-b8775adbf7b7');\n",
              "          const dataTable =\n",
              "            await google.colab.kernel.invokeFunction('convertToInteractive',\n",
              "                                                     [key], {});\n",
              "          if (!dataTable) return;\n",
              "\n",
              "          const docLinkHtml = 'Like what you see? Visit the ' +\n",
              "            '<a target=\"_blank\" href=https://colab.research.google.com/notebooks/data_table.ipynb>data table notebook</a>'\n",
              "            + ' to learn more about interactive tables.';\n",
              "          element.innerHTML = '';\n",
              "          dataTable['output_type'] = 'display_data';\n",
              "          await google.colab.output.renderOutput(dataTable, element);\n",
              "          const docLink = document.createElement('div');\n",
              "          docLink.innerHTML = docLinkHtml;\n",
              "          element.appendChild(docLink);\n",
              "        }\n",
              "      </script>\n",
              "    </div>\n",
              "  </div>\n",
              "  "
            ]
          },
          "metadata": {},
          "execution_count": 53
        }
      ]
    },
    {
      "cell_type": "code",
      "source": [
        "correlation_matrix = df.corr()\n",
        "sns.heatmap(correlation_matrix, annot=True, cmap='coolwarm')\n",
        "plt.title('Correlation Matrix')\n",
        "plt.show()"
      ],
      "metadata": {
        "colab": {
          "base_uri": "https://localhost:8080/",
          "height": 507
        },
        "id": "QE5X2OKXVyCh",
        "outputId": "8bcf3861-517b-4bab-f655-4041dd9f7e5c"
      },
      "execution_count": 54,
      "outputs": [
        {
          "output_type": "stream",
          "name": "stderr",
          "text": [
            "<ipython-input-54-d41c670d8d84>:1: FutureWarning: The default value of numeric_only in DataFrame.corr is deprecated. In a future version, it will default to False. Select only valid columns or specify the value of numeric_only to silence this warning.\n",
            "  correlation_matrix = df.corr()\n"
          ]
        },
        {
          "output_type": "display_data",
          "data": {
            "text/plain": [
              "<Figure size 640x480 with 2 Axes>"
            ],
            "image/png": "[encoded data removed]"
          },
          "metadata": {}
        }
      ]
    },
    {
      "cell_type": "code",
      "source": [
        "df['A'].unique()\n"
      ],
      "metadata": {
        "colab": {
          "base_uri": "https://localhost:8080/"
        },
        "id": "5fAlfMgAdaug",
        "outputId": "cdaad798-9472-40af-8090-0778111613d7"
      },
      "execution_count": 55,
      "outputs": [
        {
          "output_type": "execute_result",
          "data": {
            "text/plain": [
              "array(['F', 'M', 'I'], dtype=object)"
            ]
          },
          "metadata": {},
          "execution_count": 55
        }
      ]
    },
    {
      "cell_type": "code",
      "source": [
        "df['Target'].unique()\n"
      ],
      "metadata": {
        "colab": {
          "base_uri": "https://localhost:8080/"
        },
        "id": "6h2cddHLlQ-F",
        "outputId": "932d8323-c7c2-4750-c155-d7918be94232"
      },
      "execution_count": 56,
      "outputs": [
        {
          "output_type": "execute_result",
          "data": {
            "text/plain": [
              "array([ 9, 12, 10, 15,  6,  8,  5, 11,  7, 14, 20, 13,  4, 16, 23, 17, 19,\n",
              "        3, 18, 21, 29,  2, 22, 26, 27,  1, 24, 25])"
            ]
          },
          "metadata": {},
          "execution_count": 56
        }
      ]
    },
    {
      "cell_type": "markdown",
      "source": [
        "# Feature Engineering\n",
        "\n",
        "> I have done feature enginerring by adding some features or doing some transformation withany of the given features.\n",
        "\n",
        "> New features can help to capture underlying patterns in data.\n",
        "\n",
        "> by doing polynomial transformation, we can capture non linear relationship between features.\n",
        "\n",
        "\n",
        "\n",
        "\n",
        "\n",
        "\n",
        "\n",
        "\n",
        "\n",
        "\n",
        "\n"
      ],
      "metadata": {
        "id": "CviByG40BBOf"
      }
    },
    {
      "cell_type": "markdown",
      "source": [
        "# One Hot encoding\n",
        "\n",
        "> categorical column is converted into vector by one hot encoding , here there is no order in values of categorical column, so we should use one hot encoding than label encoding.\n",
        "\n"
      ],
      "metadata": {
        "id": "DA1I1varCNmm"
      }
    },
    {
      "cell_type": "code",
      "source": [
        "# Encode categorical variable using one-hot encoding\n",
        "onehot_encoded = pd.get_dummies(df['A'], prefix='A')\n",
        "\n",
        "# Concatenate the original DataFrame with the encoded columns\n",
        "df = pd.concat([df, onehot_encoded], axis=1)\n",
        "\n",
        "# Remove the original categorical column\n",
        "df.drop('A', axis=1, inplace=True)\n",
        "\n",
        "# Adding a new feature by taking the interaction of two existing features\n",
        "df['f1'] = df['B'] * df['C']\n",
        "df['f3'] = df['E'] * df['F'] + df['G']\n",
        "df['f2']= df['B']**2\n",
        "df['f4']= df['C']**2\n",
        "df['f5']= df['D']**2\n",
        "df['f6']= df['E']**2\n",
        "df['f7']= df['F']**2\n",
        "df['f8']= df['G']**2\n",
        "df['f9']= df['H']**2\n",
        "df['f10'] = df['D'] + df['E']\n",
        "df['f11'] = df['F'] + df['G']\n",
        "\n",
        "\n",
        "\n",
        "target_col = df.pop('Target')\n",
        "df['Target'] = target_col  # Add the target column at the last position\n",
        "print(df)\n"
      ],
      "metadata": {
        "colab": {
          "base_uri": "https://localhost:8080/"
        },
        "id": "FeBcwy0nuw75",
        "outputId": "9c36646f-60ce-4c72-d139-f2aebc226985"
      },
      "execution_count": 57,
      "outputs": [
        {
          "output_type": "stream",
          "name": "stdout",
          "text": [
            "          B      C      D       E       F       G      H  A_F  A_I  A_M  ...  \\\n",
            "0     0.615  0.455  0.135  1.0590  0.4735  0.2630  0.274    1    0    0  ...   \n",
            "1     0.515  0.395  0.140  0.6860  0.2810  0.1255  0.220    1    0    0  ...   \n",
            "2     0.660  0.530  0.175  1.5830  0.7395  0.3505  0.405    0    0    1  ...   \n",
            "3     0.455  0.365  0.095  0.5140  0.2245  0.1010  0.150    0    0    1  ...   \n",
            "4     0.495  0.400  0.155  0.8085  0.2345  0.1155  0.350    0    0    1  ...   \n",
            "...     ...    ...    ...     ...     ...     ...    ...  ...  ...  ...  ...   \n",
            "3127  0.490  0.400  0.115  0.5690  0.2560  0.1325  0.145    1    0    0  ...   \n",
            "3128  0.670  0.550  0.190  1.3905  0.5425  0.3035  0.400    1    0    0  ...   \n",
            "3129  0.510  0.395  0.125  0.5805  0.2440  0.1335  0.188    0    0    1  ...   \n",
            "3130  0.575  0.465  0.120  1.0535  0.5160  0.2185  0.235    0    0    1  ...   \n",
            "3131  0.595  0.475  0.160  1.1405  0.5470  0.2310  0.271    1    0    0  ...   \n",
            "\n",
            "            f2        f4        f5        f6        f7        f8        f9  \\\n",
            "0     0.378225  0.207025  0.018225  1.121481  0.224202  0.069169  0.075076   \n",
            "1     0.265225  0.156025  0.019600  0.470596  0.078961  0.015750  0.048400   \n",
            "2     0.435600  0.280900  0.030625  2.505889  0.546860  0.122850  0.164025   \n",
            "3     0.207025  0.133225  0.009025  0.264196  0.050400  0.010201  0.022500   \n",
            "4     0.245025  0.160000  0.024025  0.653672  0.054990  0.013340  0.122500   \n",
            "...        ...       ...       ...       ...       ...       ...       ...   \n",
            "3127  0.240100  0.160000  0.013225  0.323761  0.065536  0.017556  0.021025   \n",
            "3128  0.448900  0.302500  0.036100  1.933490  0.294306  0.092112  0.160000   \n",
            "3129  0.260100  0.156025  0.015625  0.336980  0.059536  0.017822  0.035344   \n",
            "3130  0.330625  0.216225  0.014400  1.109862  0.266256  0.047742  0.055225   \n",
            "3131  0.354025  0.225625  0.025600  1.300740  0.299209  0.053361  0.073441   \n",
            "\n",
            "         f10     f11  Target  \n",
            "0     1.1940  0.7365       9  \n",
            "1     0.8260  0.4065      12  \n",
            "2     1.7580  1.0900      10  \n",
            "3     0.6090  0.3255      15  \n",
            "4     0.9635  0.3500       6  \n",
            "...      ...     ...     ...  \n",
            "3127  0.6840  0.3885       9  \n",
            "3128  1.5805  0.8460      12  \n",
            "3129  0.7055  0.3775      11  \n",
            "3130  1.1735  0.7345       9  \n",
            "3131  1.3005  0.7780       6  \n",
            "\n",
            "[3132 rows x 22 columns]\n"
          ]
        }
      ]
    },
    {
      "cell_type": "code",
      "source": [
        "x=df.iloc[:,:-1].values\n",
        "y=df.iloc[:,-1].values\n",
        "print(x.shape)\n",
        "print(y.shape)\n"
      ],
      "metadata": {
        "colab": {
          "base_uri": "https://localhost:8080/"
        },
        "id": "Hgqn3IhwuxBe",
        "outputId": "80ffda2f-0055-4d0f-d7c9-4f045a979905"
      },
      "execution_count": 58,
      "outputs": [
        {
          "output_type": "stream",
          "name": "stdout",
          "text": [
            "(3132, 21)\n",
            "(3132,)\n"
          ]
        }
      ]
    },
    {
      "cell_type": "code",
      "source": [
        "df_test=pd.read_csv('Test.csv')\n",
        "correlation_matrix_2= df_test.corr()\n",
        "sns.heatmap(correlation_matrix_2, annot=True, cmap='coolwarm')\n",
        "plt.title('Correlation Matrix')\n",
        "plt.show()\n"
      ],
      "metadata": {
        "colab": {
          "base_uri": "https://localhost:8080/",
          "height": 507
        },
        "id": "X59LMMpf1mSV",
        "outputId": "e717ac72-671e-4f03-f1e1-a4de3e878aeb"
      },
      "execution_count": 59,
      "outputs": [
        {
          "output_type": "stream",
          "name": "stderr",
          "text": [
            "<ipython-input-59-4a79854f2fbd>:2: FutureWarning: The default value of numeric_only in DataFrame.corr is deprecated. In a future version, it will default to False. Select only valid columns or specify the value of numeric_only to silence this warning.\n",
            "  correlation_matrix_2= df_test.corr()\n"
          ]
        },
        {
          "output_type": "display_data",
          "data": {
            "text/plain": [
              "<Figure size 640x480 with 2 Axes>"
            ],
            "image/png": "[encoded data removed]"
          },
          "metadata": {}
        }
      ]
    },
    {
      "cell_type": "markdown",
      "source": [
        "\n",
        "# > Same feature enginerring and one hot coding is applied to test data before making predictions.\n",
        "\n"
      ],
      "metadata": {
        "id": "q9C7Qsq2Cs2u"
      }
    },
    {
      "cell_type": "code",
      "source": [
        "# Encode categorical variable using one-hot encoding\n",
        "onehot_encoded = pd.get_dummies(df_test['A'], prefix='A')\n",
        "\n",
        "# Concatenate the original DataFrame with the encoded columns\n",
        "df_test = pd.concat([df_test, onehot_encoded], axis=1)\n",
        "\n",
        "# Remove the original categorical column\n",
        "df_test.drop('A', axis=1, inplace=True)\n",
        "\n",
        "# Adding a new feature by taking the interaction of two existing features\n",
        "df_test['f1'] = df_test['B'] * df_test['C']\n",
        "df_test['f3'] = df_test['E'] * df_test['F'] + df_test['G']\n",
        "df_test['f2']= df_test['B']**2\n",
        "df_test['f4']= df_test['C']**2\n",
        "df_test['f5']= df_test['D']**2\n",
        "df_test['f6']= df_test['E']**2\n",
        "df_test['f7']= df_test['F']**2\n",
        "df_test['f8']= df_test['G']**2\n",
        "df_test['f9']= df_test['H']**2\n",
        "df_test['f10'] = df_test['D'] + df_test['E']\n",
        "df_test['f11'] = df_test['F'] + df_test['G']\n",
        "\n",
        "\n",
        "#removing index column\n",
        "x_test=df_test.iloc[:, 1:].values\n",
        "print(x_test)\n"
      ],
      "metadata": {
        "colab": {
          "base_uri": "https://localhost:8080/"
        },
        "id": "YgTrlBck06bK",
        "outputId": "a726101c-277e-4d2f-ce2a-1d033f039616"
      },
      "execution_count": 60,
      "outputs": [
        {
          "output_type": "stream",
          "name": "stdout",
          "text": [
            "[[0.605    0.455    0.16     ... 0.105625 1.2635   0.7225  ]\n",
            " [0.59     0.44     0.15     ... 0.060025 1.0225   0.602   ]\n",
            " [0.56     0.445    0.195    ... 0.112225 1.176    0.5295  ]\n",
            " ...\n",
            " [0.635    0.51     0.185    ... 0.142129 1.493    0.862   ]\n",
            " [0.46     0.375    0.14     ... 0.042025 0.6505   0.2965  ]\n",
            " [0.53     0.385    0.125    ... 0.0324   0.7945   0.44    ]]\n"
          ]
        }
      ]
    },
    {
      "cell_type": "markdown",
      "source": [
        "# K fold cross validation\n",
        "# Linear multiple regression\n",
        "\n",
        "> Firstly, i have divided training data into training + validation set. then K fold cross validation is used to make predictions on validation set.\n",
        "\n",
        "\n"
      ],
      "metadata": {
        "id": "yY2L80fjDB91"
      }
    },
    {
      "cell_type": "code",
      "source": [
        "X_train, X_val, y_train, y_val = train_test_split(x, y, test_size=0.1, random_state=42)\n",
        "\n",
        "k = 10 # Number of folds for cross-validation\n",
        "kf = KFold(n_splits=k, shuffle=True, random_state=42)\n",
        "\n",
        "errors = []\n",
        "\n",
        "for train_index, val_index in kf.split(X_train):\n",
        "    X_train_fold, X_val_fold = X_train[train_index], X_train[val_index]\n",
        "    y_train_fold, y_val_fold = y_train[train_index], y_train[val_index]\n",
        "\n",
        "    lr = LinearRegression()\n",
        "    lr.fit(X_train_fold, y_train_fold)\n",
        "    y_pred = lr.predict(X_val_fold)\n",
        "    error = mean_squared_error(y_val_fold, y_pred)\n",
        "    errors.append(error)\n",
        "\n",
        "avg_error = np.mean(errors)\n",
        "print(\"Average RMSE:\", np.sqrt(avg_error))\n"
      ],
      "metadata": {
        "colab": {
          "base_uri": "https://localhost:8080/"
        },
        "id": "Y1fT-wCalOgh",
        "outputId": "0c197966-495f-44cb-cf15-42ee66ef67cc"
      },
      "execution_count": 61,
      "outputs": [
        {
          "output_type": "stream",
          "name": "stdout",
          "text": [
            "Average RMSE: 2.136503622184153\n"
          ]
        }
      ]
    },
    {
      "cell_type": "markdown",
      "source": [
        "# Support vector regression"
      ],
      "metadata": {
        "id": "P8hjltTdDaa9"
      }
    },
    {
      "cell_type": "code",
      "source": [
        "k = 10\n",
        "kf = KFold(n_splits=k, shuffle=True, random_state=42)\n",
        "\n",
        "errors = []\n",
        "\n",
        "for train_index, val_index in kf.split(X_train):\n",
        "    X_train_fold, X_val_fold = X_train[train_index], X_train[val_index]\n",
        "    y_train_fold, y_val_fold = y_train[train_index], y_train[val_index]\n",
        "\n",
        "    svr = SVR()  # Use SVR for Support Vector Regression\n",
        "    svr.fit(X_train_fold, y_train_fold)\n",
        "    y_pred = svr.predict(X_val_fold)\n",
        "    error = mean_squared_error(y_val_fold, y_pred)\n",
        "    errors.append(error)\n",
        "\n",
        "avg_error = np.mean(errors)\n",
        "print(\"Average RMSE:\", np.sqrt(avg_error))\n"
      ],
      "metadata": {
        "colab": {
          "base_uri": "https://localhost:8080/"
        },
        "id": "n2AHGhOX3nag",
        "outputId": "f5715ca6-2d3c-49b8-dd55-2e624f79024d"
      },
      "execution_count": 62,
      "outputs": [
        {
          "output_type": "stream",
          "name": "stdout",
          "text": [
            "Average RMSE: 2.325731054826543\n"
          ]
        }
      ]
    },
    {
      "cell_type": "markdown",
      "source": [
        "# decision tree regression"
      ],
      "metadata": {
        "id": "Rcz67QHsDeF-"
      }
    },
    {
      "cell_type": "code",
      "source": [
        "\n",
        "k = 10\n",
        "kf = KFold(n_splits=k, shuffle=True, random_state=42)\n",
        "\n",
        "errors = []\n",
        "\n",
        "for train_index, val_index in kf.split(X_train):\n",
        "    X_train_fold, X_val_fold = X_train[train_index], X_train[val_index]\n",
        "    y_train_fold, y_val_fold = y_train[train_index], y_train[val_index]\n",
        "    dt = DecisionTreeRegressor()  # Use DecisionTreeRegressor for Decision Trees\n",
        "    dt.fit(X_train_fold, y_train_fold)\n",
        "    y_pred = dt.predict(X_val_fold)\n",
        "    error = mean_squared_error(y_val_fold, y_pred)\n",
        "    errors.append(error)\n",
        "\n",
        "avg_error = np.mean(errors)\n",
        "print(\"Average RMSE:\", np.sqrt(avg_error))\n"
      ],
      "metadata": {
        "colab": {
          "base_uri": "https://localhost:8080/"
        },
        "id": "TgETqjPpWWQQ",
        "outputId": "1e155a0d-cc03-49b4-bd56-47ffbc83bab6"
      },
      "execution_count": 63,
      "outputs": [
        {
          "output_type": "stream",
          "name": "stdout",
          "text": [
            "Average RMSE: 3.1008768954131023\n"
          ]
        }
      ]
    },
    {
      "cell_type": "markdown",
      "source": [
        "# Random forest regression"
      ],
      "metadata": {
        "id": "OJg2Ovg-Dhu-"
      }
    },
    {
      "cell_type": "code",
      "source": [
        "k = 10\n",
        "kf = KFold(n_splits=k, shuffle=True, random_state=42)\n",
        "\n",
        "errors = []\n",
        "\n",
        "for train_index, val_index in kf.split(X_train):\n",
        "    X_train_fold, X_val_fold = X_train[train_index], X_train[val_index]\n",
        "    y_train_fold, y_val_fold = y_train[train_index], y_train[val_index]\n",
        "    rf = RandomForestRegressor()  # Use RandomForestRegressor for ensemble modeling\n",
        "    rf.fit(X_train_fold, y_train_fold)\n",
        "    y_pred = rf.predict(X_val_fold)\n",
        "    error = mean_squared_error(y_val_fold, y_pred)\n",
        "    errors.append(error)\n",
        "\n",
        "avg_error = np.mean(errors)\n",
        "print(\"Average RMSE:\", np.sqrt(avg_error))\n"
      ],
      "metadata": {
        "colab": {
          "base_uri": "https://localhost:8080/"
        },
        "id": "IkcxrQStXBSK",
        "outputId": "27d4192d-8e5e-4d5a-bf4f-ac2d543d2d23"
      },
      "execution_count": 64,
      "outputs": [
        {
          "output_type": "stream",
          "name": "stdout",
          "text": [
            "Average RMSE: 2.193082068922813\n"
          ]
        }
      ]
    },
    {
      "cell_type": "markdown",
      "source": [
        "# Ridge regression\n",
        "\n",
        "> Ridge regression helps to rewduce overfitting. we can adjust alpha to get rid of overfitting. if alpha value is high, then bigger the penalty is, and coefficients value will be reduced. so it helps when features are correlated.\n",
        "\n",
        "> here most of the features are correlated and correlation is much high, so ridge regression helps us to handle overfitting  issue.\n",
        "\n",
        "\n"
      ],
      "metadata": {
        "id": "YKpDQx4QDkkg"
      }
    },
    {
      "cell_type": "code",
      "source": [
        "k = 10\n",
        "kf = KFold(n_splits=k, shuffle=True, random_state=42)\n",
        "\n",
        "errors = []\n",
        "\n",
        "alpha = 0.7 # Regularization parameter for Ridge regression\n",
        "\n",
        "for train_index, val_index in kf.split(X_train):\n",
        "    X_train_fold, X_val_fold = X_train[train_index], X_train[val_index]\n",
        "    y_train_fold, y_val_fold = y_train[train_index], y_train[val_index]\n",
        "    ridge = Ridge(alpha=alpha)\n",
        "    ridge.fit(X_train_fold, y_train_fold)\n",
        "    y_pred = ridge.predict(X_val_fold)\n",
        "    error = mean_squared_error(y_val_fold, y_pred)\n",
        "    errors.append(error)\n",
        "\n",
        "avg_error = np.mean(errors)\n",
        "print(\"Average RMSE:\", np.sqrt(avg_error))\n"
      ],
      "metadata": {
        "colab": {
          "base_uri": "https://localhost:8080/"
        },
        "id": "9XktdwpHTPvu",
        "outputId": "7145b590-74be-45bc-d199-8a42d912ede3"
      },
      "execution_count": 65,
      "outputs": [
        {
          "output_type": "stream",
          "name": "stdout",
          "text": [
            "Average RMSE: 2.162923696910899\n"
          ]
        }
      ]
    },
    {
      "cell_type": "markdown",
      "source": [
        "# Ensembling\n",
        "\n",
        "> I have done Ensembling of all models except decision Tree regression, this is giving least RMSE on validation dataset.\n",
        "\n",
        "> Value of RMSE is 1.95758\n",
        "\n",
        "\n",
        "\n"
      ],
      "metadata": {
        "id": "2n_l22xeDodP"
      }
    },
    {
      "cell_type": "code",
      "source": [
        "# Create an ensemble of the four models\n",
        "\n",
        "ensemble = [clone(lr), clone(svr), clone(rf), clone(ridge)]\n",
        "for model in ensemble:\n",
        "    model.fit(X_train, y_train)\n",
        "\n",
        "# Make predictions using the ensemble\n",
        "ensemble_pred = [model.predict(X_val) for model in ensemble]\n",
        "ensemble_pred = sum(ensemble_pred) / len(ensemble_pred)\n",
        "\n",
        "# Calculate the mean squared error for the ensemble\n",
        "ensemble_mse = mean_squared_error(y_val, ensemble_pred)\n",
        "print(\"Ensemble RMSE is: \" , np.sqrt(ensemble_mse))\n",
        "\n",
        "# prediction  on x_test\n",
        "ensemble_pred_test = [model.predict(x_test) for model in ensemble]\n",
        "ensemble_pred_test = sum(ensemble_pred_test) / len(ensemble_pred_test)\n",
        "Index=df_test['Index']\n",
        "df_final= pd.DataFrame(Index, columns = ['Index'])\n",
        "df_final['Target']= ensemble_pred_test\n",
        "df_final.to_csv(\"submission13.csv\", index=False)"
      ],
      "metadata": {
        "colab": {
          "base_uri": "https://localhost:8080/"
        },
        "id": "mdsu0-YPCLui",
        "outputId": "7229519b-17ac-40ea-cdf5-675f38b0db14"
      },
      "execution_count": 66,
      "outputs": [
        {
          "output_type": "stream",
          "name": "stdout",
          "text": [
            "Ensemble RMSE is:  1.9575819561604317\n"
          ]
        }
      ]
    }
  ]
}